{
 "cells": [
  {
   "cell_type": "markdown",
   "id": "560360d3-6f53-4017-a2ad-a69eef0c5aef",
   "metadata": {},
   "source": [
    "Cost function ek mathematical function hoti hai jo machine learning model ki performance measure karti hai. Yeh function model ke predictions aur actual values ke beech ka difference calculate karta hai."
   ]
  },
  {
   "cell_type": "markdown",
   "id": "0ba42157-3b6c-49a5-ac48-9bbcef18692f",
   "metadata": {},
   "source": [
    "# Mean Squared Error (MSE)\n",
    " – Regression Problems ke liye\n",
    "👉 Jab continuous output ho (jaise price prediction), tab yeh use hota hai."
   ]
  },
  {
   "cell_type": "code",
   "execution_count": 1,
   "id": "aa317569-c55c-4eec-b714-cba6e2b8276e",
   "metadata": {},
   "outputs": [
    {
     "name": "stdout",
     "output_type": "stream",
     "text": [
      "MSE Loss: 0.25\n"
     ]
    }
   ],
   "source": [
    "import tensorflow as tf\n",
    "\n",
    "y_actual = tf.constant([3.0, 5.0, 7.0])\n",
    "y_pred = tf.constant([2.5, 5.5, 6.5])\n",
    "\n",
    "mse = tf.keras.losses.MeanSquaredError()\n",
    "loss = mse(y_actual, y_pred)\n",
    "\n",
    "print(\"MSE Loss:\", loss.numpy())  # Output: 0.1666\n"
   ]
  },
  {
   "cell_type": "code",
   "execution_count": 21,
   "id": "e9ed5ac3-562c-4ef4-819d-545919667264",
   "metadata": {},
   "outputs": [
    {
     "name": "stdout",
     "output_type": "stream",
     "text": [
      "0.25\n",
      "14.5\n"
     ]
    }
   ],
   "source": [
    "import numpy as np\n",
    "y_actual=np.array([3.0,5.0,7.0])\n",
    "y_predicted=np.array([2.5,5.5,6.5])\n",
    "mse=tf.keras.losses.MeanSquaredError()\n",
    "loss=mse(y_actual,y_predicted)\n",
    "print(loss.numpy())\n"
   ]
  },
  {
   "cell_type": "markdown",
   "id": "866052e2-2a45-468f-b07f-bcf45d6b99f5",
   "metadata": {},
   "source": [
    "# Binary Cross-Entropy (BCE)"
   ]
  },
  {
   "cell_type": "code",
   "execution_count": 3,
   "id": "1a1e7a09-65b8-491c-a217-598a2a0b9a82",
   "metadata": {},
   "outputs": [
    {
     "name": "stdout",
     "output_type": "stream",
     "text": [
      "Binary Cross-Entropy Loss: 0.14462154\n"
     ]
    }
   ],
   "source": [
    "bce = tf.keras.losses.BinaryCrossentropy()\n",
    "y_actual = tf.constant([1.0, 0.0, 1.0])\n",
    "y_pred = tf.constant([0.9, 0.1, 0.8])\n",
    "\n",
    "loss = bce(y_actual, y_pred)\n",
    "print(\"Binary Cross-Entropy Loss:\", loss.numpy())\n"
   ]
  },
  {
   "cell_type": "code",
   "execution_count": null,
   "id": "f9a5dd7e-8f18-4460-bdc9-2e7071540140",
   "metadata": {},
   "outputs": [],
   "source": [
    " # BInary classfication: Jab output 0 ya 1 ho (Jaise Spam Detection)"
   ]
  },
  {
   "cell_type": "markdown",
   "id": "a6f3e3e5-e6b8-4301-a212-d38ec9234d91",
   "metadata": {},
   "source": [
    "# Categorical Cross-Entropy – Multi-Class Classification ke liye\n",
    "👉 Jab multiple classes ho (Jaise Dog vs Cat vs Lion classification)"
   ]
  },
  {
   "cell_type": "code",
   "execution_count": 5,
   "id": "0e21f2f9-7f02-465b-8035-fdab626e9df5",
   "metadata": {},
   "outputs": [
    {
     "name": "stdout",
     "output_type": "stream",
     "text": [
      "Categorical Cross-Entropy Loss: 0.28990924\n"
     ]
    }
   ],
   "source": [
    "cce = tf.keras.losses.CategoricalCrossentropy()\n",
    "y_actual = tf.constant([[0, 1, 0], [1, 0, 0]])\n",
    "y_pred = tf.constant([[0.1, 0.8, 0.1], [0.7, 0.2, 0.1]])\n",
    "\n",
    "loss = cce(y_actual, y_pred)\n",
    "print(\"Categorical Cross-Entropy Loss:\", loss.numpy())\n"
   ]
  },
  {
   "cell_type": "code",
   "execution_count": null,
   "id": "e96eefe5-4cf7-4c60-8b3a-9bfe4efe9886",
   "metadata": {},
   "outputs": [],
   "source": []
  },
  {
   "cell_type": "code",
   "execution_count": null,
   "id": "701f2f1a-feae-426b-a7a3-19fc4e6e0e76",
   "metadata": {},
   "outputs": [],
   "source": []
  },
  {
   "cell_type": "code",
   "execution_count": null,
   "id": "7824466b-ebbd-4f1c-ade3-a0dcf2eaf735",
   "metadata": {},
   "outputs": [],
   "source": []
  }
 ],
 "metadata": {
  "kernelspec": {
   "display_name": "Python 3 (ipykernel)",
   "language": "python",
   "name": "python3"
  },
  "language_info": {
   "codemirror_mode": {
    "name": "ipython",
    "version": 3
   },
   "file_extension": ".py",
   "mimetype": "text/x-python",
   "name": "python",
   "nbconvert_exporter": "python",
   "pygments_lexer": "ipython3",
   "version": "3.12.7"
  },
  "widgets": {
   "application/vnd.jupyter.widget-state+json": {
    "state": {},
    "version_major": 2,
    "version_minor": 0
   }
  }
 },
 "nbformat": 4,
 "nbformat_minor": 5
}
